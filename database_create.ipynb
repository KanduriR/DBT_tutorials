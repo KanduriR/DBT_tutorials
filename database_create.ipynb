{
 "cells": [
  {
   "cell_type": "code",
   "execution_count": 1,
   "id": "91d36734",
   "metadata": {},
   "outputs": [],
   "source": [
    "import pandas as pd\n",
    "import duckdb"
   ]
  },
  {
   "cell_type": "code",
   "execution_count": 7,
   "id": "0732f282",
   "metadata": {},
   "outputs": [
    {
     "data": {
      "text/html": [
       "<div>\n",
       "<style scoped>\n",
       "    .dataframe tbody tr th:only-of-type {\n",
       "        vertical-align: middle;\n",
       "    }\n",
       "\n",
       "    .dataframe tbody tr th {\n",
       "        vertical-align: top;\n",
       "    }\n",
       "\n",
       "    .dataframe thead th {\n",
       "        text-align: right;\n",
       "    }\n",
       "</style>\n",
       "<table border=\"1\" class=\"dataframe\">\n",
       "  <thead>\n",
       "    <tr style=\"text-align: right;\">\n",
       "      <th></th>\n",
       "      <th>registration_state</th>\n",
       "      <th>ticket_count</th>\n",
       "    </tr>\n",
       "  </thead>\n",
       "  <tbody>\n",
       "    <tr>\n",
       "      <th>0</th>\n",
       "      <td>NJ</td>\n",
       "      <td>9258</td>\n",
       "    </tr>\n",
       "    <tr>\n",
       "      <th>1</th>\n",
       "      <td>PA</td>\n",
       "      <td>3514</td>\n",
       "    </tr>\n",
       "    <tr>\n",
       "      <th>2</th>\n",
       "      <td>FL</td>\n",
       "      <td>2414</td>\n",
       "    </tr>\n",
       "    <tr>\n",
       "      <th>3</th>\n",
       "      <td>CT</td>\n",
       "      <td>1787</td>\n",
       "    </tr>\n",
       "    <tr>\n",
       "      <th>4</th>\n",
       "      <td>GA</td>\n",
       "      <td>840</td>\n",
       "    </tr>\n",
       "  </tbody>\n",
       "</table>\n",
       "</div>"
      ],
      "text/plain": [
       "  registration_state  ticket_count\n",
       "0                 NJ          9258\n",
       "1                 PA          3514\n",
       "2                 FL          2414\n",
       "3                 CT          1787\n",
       "4                 GA           840"
      ]
     },
     "metadata": {},
     "output_type": "display_data"
    }
   ],
   "source": [
    "sql_query = ''' select * from  gold_vehicles_metrics\n",
    "                    limit 5'''\n",
    "\n",
    "with duckdb.connect('data/nyc_parking_violations.db') as con:\n",
    "    display(con.sql(sql_query).df())"
   ]
  },
  {
   "cell_type": "code",
   "execution_count": 1,
   "id": "cccc0063",
   "metadata": {},
   "outputs": [
    {
     "ename": "NameError",
     "evalue": "name 'duckdb' is not defined",
     "output_type": "error",
     "traceback": [
      "\u001b[31m---------------------------------------------------------------------------\u001b[39m",
      "\u001b[31mNameError\u001b[39m                                 Traceback (most recent call last)",
      "\u001b[36mCell\u001b[39m\u001b[36m \u001b[39m\u001b[32mIn[1]\u001b[39m\u001b[32m, line 13\u001b[39m\n\u001b[32m      1\u001b[39m query_1 = \u001b[33m'''\u001b[39m\u001b[33m \u001b[39m\n\u001b[32m      2\u001b[39m \u001b[33mcreate or replace table parking_violation_codes as \u001b[39m\n\u001b[32m      3\u001b[39m \u001b[33mselect * \u001b[39m\n\u001b[32m      4\u001b[39m \u001b[33mfrom read_csv_auto(\u001b[39m\u001b[33m'\u001b[39m\u001b[33mdata/dof_parking_violation_codes.csv\u001b[39m\u001b[33m'\u001b[39m\u001b[33m, normalize_names=True)\u001b[39m\n\u001b[32m      5\u001b[39m \u001b[33m'''\u001b[39m\n\u001b[32m      7\u001b[39m query_2 = \u001b[33m'''\u001b[39m\u001b[33m \u001b[39m\n\u001b[32m      8\u001b[39m \u001b[33mcreate or replace table parking_violation_2023 as \u001b[39m\n\u001b[32m      9\u001b[39m \u001b[33mselect *\u001b[39m\n\u001b[32m     10\u001b[39m \u001b[33mfrom read_csv_auto(\u001b[39m\u001b[33m'\u001b[39m\u001b[33mdata/parking_violations_issued_fiscal_year_2023_sample.csv\u001b[39m\u001b[33m'\u001b[39m\u001b[33m, normalize_names=True)\u001b[39m\n\u001b[32m     11\u001b[39m \u001b[33m'''\u001b[39m\n\u001b[32m---> \u001b[39m\u001b[32m13\u001b[39m \u001b[38;5;28;01mwith\u001b[39;00m \u001b[43mduckdb\u001b[49m.connect(\u001b[33m'\u001b[39m\u001b[33mdata/nyc_parking_violations.db\u001b[39m\u001b[33m'\u001b[39m) \u001b[38;5;28;01mas\u001b[39;00m con:\n\u001b[32m     14\u001b[39m     con.sql(query_1)\n\u001b[32m     15\u001b[39m     con.sql(query_2)\n",
      "\u001b[31mNameError\u001b[39m: name 'duckdb' is not defined"
     ]
    }
   ],
   "source": [
    "query_1 = ''' \n",
    "create or replace table parking_violation_codes as \n",
    "select * \n",
    "from read_csv_auto('data/dof_parking_violation_codes.csv', normalize_names=True)\n",
    "'''\n",
    "\n",
    "query_2 = ''' \n",
    "create or replace table parking_violation_2023 as \n",
    "select *\n",
    "from read_csv_auto('data/parking_violations_issued_fiscal_year_2023_sample.csv', normalize_names=True)\n",
    "'''\n",
    "\n",
    "with duckdb.connect('data/nyc_parking_violations.db') as con:\n",
    "    con.sql(query_1)\n",
    "    con.sql(query_2)"
   ]
  }
 ],
 "metadata": {
  "kernelspec": {
   "display_name": "Python 3",
   "language": "python",
   "name": "python3"
  },
  "language_info": {
   "codemirror_mode": {
    "name": "ipython",
    "version": 3
   },
   "file_extension": ".py",
   "mimetype": "text/x-python",
   "name": "python",
   "nbconvert_exporter": "python",
   "pygments_lexer": "ipython3",
   "version": "3.12.1"
  }
 },
 "nbformat": 4,
 "nbformat_minor": 5
}
